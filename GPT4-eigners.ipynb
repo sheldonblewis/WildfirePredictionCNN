pip install torch torchvision

import numpy as np
import pandas as pd
import geopandas as gpd
import rasterio as rio
import os
import torch
from torch.utils.data import Dataset
from torchvision import transforms
import torch.optim as optim
from tqdm import tqdm
import torch.nn.functional as F

# Paths for data and fires
data_path = "/kaggle/input/wildfire-hackathon-kaggle/Wildfire_Hackathon_Complete/"
train_path = data_path + "Train/"
test_path = data_path + "Test/"
tr_fnums = ["fire1209", "fire1298", "fire1386", "fire2034", "fire2210", "fire2211", "fire2212"]
te_fnums = ["fire2214"]
